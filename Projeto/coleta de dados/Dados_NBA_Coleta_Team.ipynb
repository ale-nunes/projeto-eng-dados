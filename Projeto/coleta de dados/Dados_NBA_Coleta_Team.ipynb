{
  "cells": [
    {
      "cell_type": "markdown",
      "metadata": {
        "id": "ksVdElMbjAzi"
      },
      "source": [
        "# **Dados NBA**\n"
      ]
    },
    {
      "cell_type": "code",
      "execution_count": 1,
      "metadata": {
        "id": "wBb79OWgTtQE"
      },
      "outputs": [],
      "source": [
        "#Bibliotecas \n",
        "from urllib.request import urlopen\n",
        "from bs4 import BeautifulSoup\n",
        "import pandas as pd\n",
        "import requests"
      ]
    },
    {
      "cell_type": "code",
      "execution_count": 37,
      "metadata": {
        "id": "Yf4ArTDioPrd"
      },
      "outputs": [],
      "source": [
        "def data_nba_team(url_time):\n",
        "  page = requests.get(url_time)\n",
        "  html_time = urlopen(url_time)\n",
        "  soup_time = BeautifulSoup(html_time)\n",
        "  table_time = soup_time.find(lambda tag: tag.name=='table' and tag.has_attr('id') and tag['id']==\"per_game-team\")\n",
        "  columns_time = table_time.findAll(lambda tag: tag.name=='tr',limit=2)\n",
        "  headers_time = [th.getText() for th in columns_time[0].findAll('th')]\n",
        "  headers_time_final = headers_time[1:]\n",
        "\n",
        "  #Criando uma lista com todas as estatisticas presentes\n",
        "  rows_time = table_time.tbody.findAll('tr')[0:]\n",
        "  time_stats_Basket = [[td.getText() for td in rows_time[i].findAll('td')] for i in range(len(rows_time))]\n",
        "  nba_stats_time = pd.DataFrame(time_stats_Basket, columns = headers_time_final)\n",
        "  return nba_stats_time"
      ]
    },
    {
      "cell_type": "code",
      "execution_count": 38,
      "metadata": {
        "id": "G_PAjBY2dTc1"
      },
      "outputs": [],
      "source": [
        "# URL da pagina que iremos fazer o scarping\n",
        "year = 2023\n",
        "url_team = \"https://www.basketball-reference.com/leagues/NBA_{}.html\".format(year)"
      ]
    },
    {
      "cell_type": "code",
      "execution_count": 39,
      "metadata": {
        "id": "MuxiGAZcoPn7"
      },
      "outputs": [],
      "source": [
        "season_team_2023 = data_nba_team(url_team)"
      ]
    },
    {
      "cell_type": "code",
      "execution_count": 40,
      "metadata": {
        "id": "Zf58dDi6e4wt"
      },
      "outputs": [],
      "source": [
        "path = r\"C:\\Users\\aleci\\Downloads\\Files\\Projeto Aplicado\\Projeto\\data\\data_team_2023.csv\"\n",
        "\n",
        "season_team_2023.to_csv(path, index=False)"
      ]
    },
    {
      "cell_type": "markdown",
      "metadata": {
        "id": "1c_IVLOkMV9p"
      },
      "source": [
        "# **União dos dados**\n"
      ]
    },
    {
      "cell_type": "code",
      "execution_count": 41,
      "metadata": {
        "id": "kr4mDEzuMaDc"
      },
      "outputs": [],
      "source": [
        "path_2 = r\"C:\\Users\\aleci\\Downloads\\Files\\Projeto Aplicado\\Projeto\\data\\data_team_2023.csv\"\n",
        "\n",
        "season_time_2023 = pd.read_csv(path_2)"
      ]
    },
    {
      "cell_type": "code",
      "execution_count": 42,
      "metadata": {
        "id": "B6PauvYlN-Qc"
      },
      "outputs": [],
      "source": [
        "season_2023 = season_time_2023.assign(ANO='2023')"
      ]
    },
    {
      "cell_type": "code",
      "execution_count": 45,
      "metadata": {},
      "outputs": [],
      "source": [
        "path_all_data = r\"C:\\Users\\aleci\\Downloads\\Files\\Projeto Aplicado\\Projeto\\data\\data_teams_2005_2023.csv\"\n",
        "\n",
        "season_teams_2005_2023 = pd.read_csv(path_all_data)"
      ]
    },
    {
      "cell_type": "code",
      "execution_count": 46,
      "metadata": {},
      "outputs": [],
      "source": [
        "season_teams_2005_2023.drop(season_teams_2005_2023[season_teams_2005_2023['ANO'] == 2023 ].index, inplace = True)"
      ]
    },
    {
      "cell_type": "code",
      "execution_count": 47,
      "metadata": {
        "id": "0pQiqoZGMZ-M"
      },
      "outputs": [],
      "source": [
        "all_data_times = pd.concat([season_teams_2005_2023, season_2023 ])"
      ]
    },
    {
      "cell_type": "code",
      "execution_count": 48,
      "metadata": {
        "id": "57HvXIkAQahw"
      },
      "outputs": [],
      "source": [
        "save_path_team = r\"C:\\Users\\aleci\\Downloads\\Files\\Projeto Aplicado\\Projeto\\data\\data_teams_2005_2023_v1.csv\"\n",
        "all_data_times.to_csv(save_path_team, index=False)"
      ]
    }
  ],
  "metadata": {
    "colab": {
      "collapsed_sections": [
        "ksVdElMbjAzi",
        "rH1ZybDFdP5N",
        "OD0jfasOdpR5",
        "1c_IVLOkMV9p"
      ],
      "provenance": []
    },
    "gpuClass": "standard",
    "kernelspec": {
      "display_name": "Python 3",
      "name": "python3"
    },
    "language_info": {
      "codemirror_mode": {
        "name": "ipython",
        "version": 3
      },
      "file_extension": ".py",
      "mimetype": "text/x-python",
      "name": "python",
      "nbconvert_exporter": "python",
      "pygments_lexer": "ipython3",
      "version": "3.9.12"
    }
  },
  "nbformat": 4,
  "nbformat_minor": 0
}
