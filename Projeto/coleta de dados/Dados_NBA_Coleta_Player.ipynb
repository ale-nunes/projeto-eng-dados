{
  "cells": [
    {
      "cell_type": "markdown",
      "metadata": {
        "id": "ksVdElMbjAzi"
      },
      "source": [
        "# **Dados NBA**\n"
      ]
    },
    {
      "cell_type": "code",
      "execution_count": 22,
      "metadata": {
        "id": "wBb79OWgTtQE"
      },
      "outputs": [],
      "source": [
        "#Bibliotecas \n",
        "from urllib.request import urlopen\n",
        "from bs4 import BeautifulSoup\n",
        "import pandas as pd\n",
        "import requests"
      ]
    },
    {
      "cell_type": "code",
      "execution_count": 23,
      "metadata": {},
      "outputs": [],
      "source": [
        "def data_nba_players(url_players):\n",
        "  page = requests.get(url_players)\n",
        "  html_nba = urlopen(url_players)\n",
        "  soup_nba = BeautifulSoup(html_nba)\n",
        "  rows = soup_nba.findAll('tr')[1:]\n",
        "  players_stats_2018 = [[td.getText() for td in rows[i].findAll('td')] for i in range(len(rows))]\n",
        "  headers_2018 = [th.getText() for th in soup_nba.findAll('tr', limit=2)[0].findAll('th')]\n",
        "  headers_2018_final = headers_2018[1:]\n",
        "  stats_2018 = pd.DataFrame(players_stats_2018, columns = headers_2018_final)\n",
        "  return stats_2018"
      ]
    },
    {
      "cell_type": "code",
      "execution_count": 24,
      "metadata": {
        "id": "RnMEowKxTwrB"
      },
      "outputs": [],
      "source": [
        "# Temporada iremos Analisar\n",
        "year = 2023\n",
        "\n",
        "# URL da pagina que iremos fazer o scarping\n",
        "url_nba = \"https://www.basketball-reference.com/leagues/NBA_{}_per_game.html\".format(year)"
      ]
    },
    {
      "cell_type": "code",
      "execution_count": 25,
      "metadata": {
        "id": "mME9U4ANTwuB"
      },
      "outputs": [],
      "source": [
        "season_players_2023 = data_nba_players(url_nba)"
      ]
    },
    {
      "cell_type": "code",
      "execution_count": 26,
      "metadata": {
        "id": "Zf58dDi6e4wt"
      },
      "outputs": [],
      "source": [
        "path = r\"C:\\Users\\aleci\\Downloads\\Files\\Projeto Aplicado\\Projeto\\data\\data_players_2023.csv\"\n",
        "\n",
        "season_players_2023.to_csv(path, index=False)"
      ]
    },
    {
      "cell_type": "markdown",
      "metadata": {
        "id": "1c_IVLOkMV9p"
      },
      "source": [
        "# **União dos dados**\n"
      ]
    },
    {
      "cell_type": "code",
      "execution_count": 27,
      "metadata": {
        "id": "kr4mDEzuMaDc"
      },
      "outputs": [],
      "source": [
        "path_all_data = r\"C:\\Users\\aleci\\Downloads\\Files\\Projeto Aplicado\\Projeto\\data\\data_players_2005_2023_v2.csv\"\n",
        "season_players__2005_2023 = pd.read_csv(path_all_data)"
      ]
    },
    {
      "cell_type": "code",
      "execution_count": 30,
      "metadata": {},
      "outputs": [],
      "source": [
        "season_players__2005_2023.drop(season_players__2005_2023[season_players__2005_2023['ANO'] == 2023 ].index, inplace = True)\n"
      ]
    },
    {
      "cell_type": "code",
      "execution_count": 31,
      "metadata": {
        "id": "B6PauvYlN-Qc"
      },
      "outputs": [],
      "source": [
        "season_players_2023 = season_players_2023.assign(ANO='2023')"
      ]
    },
    {
      "cell_type": "code",
      "execution_count": 32,
      "metadata": {
        "id": "0pQiqoZGMZ-M"
      },
      "outputs": [],
      "source": [
        "all_data_players = pd.concat([season_players__2005_2023, season_players_2023 ])"
      ]
    },
    {
      "cell_type": "code",
      "execution_count": 33,
      "metadata": {},
      "outputs": [],
      "source": [
        "save_path_all_data = r\"C:\\Users\\aleci\\Downloads\\Files\\Projeto Aplicado\\Projeto\\data\\data_players_2005_2023_v1.csv\""
      ]
    },
    {
      "cell_type": "code",
      "execution_count": 34,
      "metadata": {
        "id": "57HvXIkAQahw"
      },
      "outputs": [],
      "source": [
        "all_data_players.to_csv(save_path_all_data, index=False)"
      ]
    }
  ],
  "metadata": {
    "colab": {
      "collapsed_sections": [
        "ksVdElMbjAzi",
        "rH1ZybDFdP5N",
        "OD0jfasOdpR5",
        "1c_IVLOkMV9p"
      ],
      "provenance": []
    },
    "gpuClass": "standard",
    "kernelspec": {
      "display_name": "Python 3",
      "name": "python3"
    },
    "language_info": {
      "codemirror_mode": {
        "name": "ipython",
        "version": 3
      },
      "file_extension": ".py",
      "mimetype": "text/x-python",
      "name": "python",
      "nbconvert_exporter": "python",
      "pygments_lexer": "ipython3",
      "version": "3.9.12"
    }
  },
  "nbformat": 4,
  "nbformat_minor": 0
}
